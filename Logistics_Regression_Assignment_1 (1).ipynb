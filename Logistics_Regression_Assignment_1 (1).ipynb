{
 "cells": [
  {
   "cell_type": "code",
   "execution_count": 14,
   "id": "d2ec8607",
   "metadata": {},
   "outputs": [],
   "source": [
    "import pandas as pd\n",
    "import numpy as np\n",
    "import matplotlib.pyplot as plt\n",
    "import seaborn as sns\n",
    "\n",
    "from sklearn.pipeline import make_pipeline\n",
    "from sklearn.model_selection import train_test_split\n",
    "from sklearn.linear_model import LogisticRegression\n",
    "\n",
    "import warnings\n",
    "warnings.filterwarnings(\"ignore\")\n"
   ]
  },
  {
   "cell_type": "code",
   "execution_count": 15,
   "id": "db89771d",
   "metadata": {},
   "outputs": [
    {
     "data": {
      "text/html": [
       "<div>\n",
       "<style scoped>\n",
       "    .dataframe tbody tr th:only-of-type {\n",
       "        vertical-align: middle;\n",
       "    }\n",
       "\n",
       "    .dataframe tbody tr th {\n",
       "        vertical-align: top;\n",
       "    }\n",
       "\n",
       "    .dataframe thead th {\n",
       "        text-align: right;\n",
       "    }\n",
       "</style>\n",
       "<table border=\"1\" class=\"dataframe\">\n",
       "  <thead>\n",
       "    <tr style=\"text-align: right;\">\n",
       "      <th></th>\n",
       "      <th>gender</th>\n",
       "      <th>age</th>\n",
       "      <th>education</th>\n",
       "      <th>currentSmoker</th>\n",
       "      <th>cigsPerDay</th>\n",
       "      <th>BPMeds</th>\n",
       "      <th>prevalentStroke</th>\n",
       "      <th>prevalentHyp</th>\n",
       "      <th>diabetes</th>\n",
       "      <th>totChol</th>\n",
       "      <th>sysBP</th>\n",
       "      <th>diaBP</th>\n",
       "      <th>BMI</th>\n",
       "      <th>heartRate</th>\n",
       "      <th>glucose</th>\n",
       "      <th>TenYearCHD</th>\n",
       "    </tr>\n",
       "  </thead>\n",
       "  <tbody>\n",
       "    <tr>\n",
       "      <th>0</th>\n",
       "      <td>MALE</td>\n",
       "      <td>39</td>\n",
       "      <td>4</td>\n",
       "      <td>NO</td>\n",
       "      <td>0</td>\n",
       "      <td>0</td>\n",
       "      <td>NO</td>\n",
       "      <td>NO</td>\n",
       "      <td>NO</td>\n",
       "      <td>195</td>\n",
       "      <td>106.0</td>\n",
       "      <td>70.0</td>\n",
       "      <td>26.97</td>\n",
       "      <td>80</td>\n",
       "      <td>77</td>\n",
       "      <td>NO</td>\n",
       "    </tr>\n",
       "    <tr>\n",
       "      <th>1</th>\n",
       "      <td>FEMALE</td>\n",
       "      <td>46</td>\n",
       "      <td>2</td>\n",
       "      <td>NO</td>\n",
       "      <td>0</td>\n",
       "      <td>0</td>\n",
       "      <td>NO</td>\n",
       "      <td>NO</td>\n",
       "      <td>NO</td>\n",
       "      <td>250</td>\n",
       "      <td>121.0</td>\n",
       "      <td>81.0</td>\n",
       "      <td>28.73</td>\n",
       "      <td>95</td>\n",
       "      <td>76</td>\n",
       "      <td>NO</td>\n",
       "    </tr>\n",
       "    <tr>\n",
       "      <th>2</th>\n",
       "      <td>MALE</td>\n",
       "      <td>48</td>\n",
       "      <td>1</td>\n",
       "      <td>YES</td>\n",
       "      <td>20</td>\n",
       "      <td>0</td>\n",
       "      <td>NO</td>\n",
       "      <td>NO</td>\n",
       "      <td>NO</td>\n",
       "      <td>245</td>\n",
       "      <td>127.5</td>\n",
       "      <td>80.0</td>\n",
       "      <td>25.34</td>\n",
       "      <td>75</td>\n",
       "      <td>70</td>\n",
       "      <td>NO</td>\n",
       "    </tr>\n",
       "    <tr>\n",
       "      <th>3</th>\n",
       "      <td>FEMALE</td>\n",
       "      <td>61</td>\n",
       "      <td>3</td>\n",
       "      <td>YES</td>\n",
       "      <td>30</td>\n",
       "      <td>0</td>\n",
       "      <td>NO</td>\n",
       "      <td>YES</td>\n",
       "      <td>NO</td>\n",
       "      <td>225</td>\n",
       "      <td>150.0</td>\n",
       "      <td>95.0</td>\n",
       "      <td>28.58</td>\n",
       "      <td>65</td>\n",
       "      <td>103</td>\n",
       "      <td>YES</td>\n",
       "    </tr>\n",
       "    <tr>\n",
       "      <th>4</th>\n",
       "      <td>FEMALE</td>\n",
       "      <td>46</td>\n",
       "      <td>3</td>\n",
       "      <td>YES</td>\n",
       "      <td>23</td>\n",
       "      <td>0</td>\n",
       "      <td>NO</td>\n",
       "      <td>NO</td>\n",
       "      <td>NO</td>\n",
       "      <td>285</td>\n",
       "      <td>130.0</td>\n",
       "      <td>84.0</td>\n",
       "      <td>23.10</td>\n",
       "      <td>85</td>\n",
       "      <td>85</td>\n",
       "      <td>NO</td>\n",
       "    </tr>\n",
       "    <tr>\n",
       "      <th>...</th>\n",
       "      <td>...</td>\n",
       "      <td>...</td>\n",
       "      <td>...</td>\n",
       "      <td>...</td>\n",
       "      <td>...</td>\n",
       "      <td>...</td>\n",
       "      <td>...</td>\n",
       "      <td>...</td>\n",
       "      <td>...</td>\n",
       "      <td>...</td>\n",
       "      <td>...</td>\n",
       "      <td>...</td>\n",
       "      <td>...</td>\n",
       "      <td>...</td>\n",
       "      <td>...</td>\n",
       "      <td>...</td>\n",
       "    </tr>\n",
       "    <tr>\n",
       "      <th>4233</th>\n",
       "      <td>MALE</td>\n",
       "      <td>50</td>\n",
       "      <td>1</td>\n",
       "      <td>YES</td>\n",
       "      <td>1</td>\n",
       "      <td>0</td>\n",
       "      <td>NO</td>\n",
       "      <td>YES</td>\n",
       "      <td>NO</td>\n",
       "      <td>313</td>\n",
       "      <td>179.0</td>\n",
       "      <td>92.0</td>\n",
       "      <td>25.97</td>\n",
       "      <td>66</td>\n",
       "      <td>86</td>\n",
       "      <td>YES</td>\n",
       "    </tr>\n",
       "    <tr>\n",
       "      <th>4234</th>\n",
       "      <td>MALE</td>\n",
       "      <td>51</td>\n",
       "      <td>3</td>\n",
       "      <td>YES</td>\n",
       "      <td>43</td>\n",
       "      <td>0</td>\n",
       "      <td>NO</td>\n",
       "      <td>NO</td>\n",
       "      <td>NO</td>\n",
       "      <td>207</td>\n",
       "      <td>126.5</td>\n",
       "      <td>80.0</td>\n",
       "      <td>19.71</td>\n",
       "      <td>65</td>\n",
       "      <td>68</td>\n",
       "      <td>NO</td>\n",
       "    </tr>\n",
       "    <tr>\n",
       "      <th>4235</th>\n",
       "      <td>FEMALE</td>\n",
       "      <td>48</td>\n",
       "      <td>2</td>\n",
       "      <td>YES</td>\n",
       "      <td>20</td>\n",
       "      <td>0</td>\n",
       "      <td>NO</td>\n",
       "      <td>NO</td>\n",
       "      <td>NO</td>\n",
       "      <td>248</td>\n",
       "      <td>131.0</td>\n",
       "      <td>72.0</td>\n",
       "      <td>22.00</td>\n",
       "      <td>84</td>\n",
       "      <td>86</td>\n",
       "      <td>NO</td>\n",
       "    </tr>\n",
       "    <tr>\n",
       "      <th>4236</th>\n",
       "      <td>FEMALE</td>\n",
       "      <td>44</td>\n",
       "      <td>1</td>\n",
       "      <td>YES</td>\n",
       "      <td>15</td>\n",
       "      <td>0</td>\n",
       "      <td>NO</td>\n",
       "      <td>NO</td>\n",
       "      <td>NO</td>\n",
       "      <td>210</td>\n",
       "      <td>126.5</td>\n",
       "      <td>87.0</td>\n",
       "      <td>19.16</td>\n",
       "      <td>86</td>\n",
       "      <td>0</td>\n",
       "      <td>NO</td>\n",
       "    </tr>\n",
       "    <tr>\n",
       "      <th>4237</th>\n",
       "      <td>FEMALE</td>\n",
       "      <td>52</td>\n",
       "      <td>2</td>\n",
       "      <td>NO</td>\n",
       "      <td>0</td>\n",
       "      <td>0</td>\n",
       "      <td>NO</td>\n",
       "      <td>NO</td>\n",
       "      <td>NO</td>\n",
       "      <td>269</td>\n",
       "      <td>133.5</td>\n",
       "      <td>83.0</td>\n",
       "      <td>21.47</td>\n",
       "      <td>80</td>\n",
       "      <td>107</td>\n",
       "      <td>NO</td>\n",
       "    </tr>\n",
       "  </tbody>\n",
       "</table>\n",
       "<p>4238 rows × 16 columns</p>\n",
       "</div>"
      ],
      "text/plain": [
       "      gender  age  education currentSmoker  cigsPerDay  BPMeds  \\\n",
       "0       MALE   39          4            NO           0       0   \n",
       "1     FEMALE   46          2            NO           0       0   \n",
       "2       MALE   48          1           YES          20       0   \n",
       "3     FEMALE   61          3           YES          30       0   \n",
       "4     FEMALE   46          3           YES          23       0   \n",
       "...      ...  ...        ...           ...         ...     ...   \n",
       "4233    MALE   50          1           YES           1       0   \n",
       "4234    MALE   51          3           YES          43       0   \n",
       "4235  FEMALE   48          2           YES          20       0   \n",
       "4236  FEMALE   44          1           YES          15       0   \n",
       "4237  FEMALE   52          2            NO           0       0   \n",
       "\n",
       "     prevalentStroke prevalentHyp diabetes  totChol  sysBP  diaBP    BMI  \\\n",
       "0                 NO           NO       NO      195  106.0   70.0  26.97   \n",
       "1                 NO           NO       NO      250  121.0   81.0  28.73   \n",
       "2                 NO           NO       NO      245  127.5   80.0  25.34   \n",
       "3                 NO          YES       NO      225  150.0   95.0  28.58   \n",
       "4                 NO           NO       NO      285  130.0   84.0  23.10   \n",
       "...              ...          ...      ...      ...    ...    ...    ...   \n",
       "4233              NO          YES       NO      313  179.0   92.0  25.97   \n",
       "4234              NO           NO       NO      207  126.5   80.0  19.71   \n",
       "4235              NO           NO       NO      248  131.0   72.0  22.00   \n",
       "4236              NO           NO       NO      210  126.5   87.0  19.16   \n",
       "4237              NO           NO       NO      269  133.5   83.0  21.47   \n",
       "\n",
       "      heartRate  glucose TenYearCHD  \n",
       "0            80       77         NO  \n",
       "1            95       76         NO  \n",
       "2            75       70         NO  \n",
       "3            65      103        YES  \n",
       "4            85       85         NO  \n",
       "...         ...      ...        ...  \n",
       "4233         66       86        YES  \n",
       "4234         65       68         NO  \n",
       "4235         84       86         NO  \n",
       "4236         86        0         NO  \n",
       "4237         80      107         NO  \n",
       "\n",
       "[4238 rows x 16 columns]"
      ]
     },
     "execution_count": 15,
     "metadata": {},
     "output_type": "execute_result"
    }
   ],
   "source": [
    "df = pd.read_csv(r\"C:\\Users\\devli\\Downloads\\framingham (1).csv\")\n",
    "df"
   ]
  },
  {
   "cell_type": "code",
   "execution_count": 16,
   "id": "ba4f9067",
   "metadata": {},
   "outputs": [
    {
     "name": "stdout",
     "output_type": "stream",
     "text": [
      "<class 'pandas.core.frame.DataFrame'>\n",
      "RangeIndex: 4238 entries, 0 to 4237\n",
      "Data columns (total 16 columns):\n",
      " #   Column           Non-Null Count  Dtype  \n",
      "---  ------           --------------  -----  \n",
      " 0   gender           4238 non-null   object \n",
      " 1   age              4238 non-null   int64  \n",
      " 2   education        4238 non-null   int64  \n",
      " 3   currentSmoker    4238 non-null   object \n",
      " 4   cigsPerDay       4238 non-null   int64  \n",
      " 5   BPMeds           4238 non-null   int64  \n",
      " 6   prevalentStroke  4238 non-null   object \n",
      " 7   prevalentHyp     4238 non-null   object \n",
      " 8   diabetes         4238 non-null   object \n",
      " 9   totChol          4238 non-null   int64  \n",
      " 10  sysBP            4238 non-null   float64\n",
      " 11  diaBP            4238 non-null   float64\n",
      " 12  BMI              4238 non-null   float64\n",
      " 13  heartRate        4238 non-null   int64  \n",
      " 14  glucose          4238 non-null   int64  \n",
      " 15  TenYearCHD       4238 non-null   object \n",
      "dtypes: float64(3), int64(7), object(6)\n",
      "memory usage: 529.9+ KB\n"
     ]
    }
   ],
   "source": [
    "df.info()"
   ]
  },
  {
   "cell_type": "code",
   "execution_count": 17,
   "id": "11e49541",
   "metadata": {},
   "outputs": [
    {
     "data": {
      "text/plain": [
       "(4238, 16)"
      ]
     },
     "execution_count": 17,
     "metadata": {},
     "output_type": "execute_result"
    }
   ],
   "source": [
    "df.shape"
   ]
  },
  {
   "cell_type": "code",
   "execution_count": 18,
   "id": "9d016f13",
   "metadata": {},
   "outputs": [
    {
     "data": {
      "text/html": [
       "<div>\n",
       "<style scoped>\n",
       "    .dataframe tbody tr th:only-of-type {\n",
       "        vertical-align: middle;\n",
       "    }\n",
       "\n",
       "    .dataframe tbody tr th {\n",
       "        vertical-align: top;\n",
       "    }\n",
       "\n",
       "    .dataframe thead th {\n",
       "        text-align: right;\n",
       "    }\n",
       "</style>\n",
       "<table border=\"1\" class=\"dataframe\">\n",
       "  <thead>\n",
       "    <tr style=\"text-align: right;\">\n",
       "      <th></th>\n",
       "      <th>gender</th>\n",
       "      <th>age</th>\n",
       "      <th>education</th>\n",
       "      <th>currentSmoker</th>\n",
       "      <th>cigsPerDay</th>\n",
       "      <th>BPMeds</th>\n",
       "      <th>prevalentStroke</th>\n",
       "      <th>prevalentHyp</th>\n",
       "      <th>diabetes</th>\n",
       "      <th>totChol</th>\n",
       "      <th>sysBP</th>\n",
       "      <th>diaBP</th>\n",
       "      <th>BMI</th>\n",
       "      <th>heartRate</th>\n",
       "      <th>glucose</th>\n",
       "      <th>TenYearCHD</th>\n",
       "    </tr>\n",
       "  </thead>\n",
       "  <tbody>\n",
       "    <tr>\n",
       "      <th>0</th>\n",
       "      <td>MALE</td>\n",
       "      <td>39</td>\n",
       "      <td>4</td>\n",
       "      <td>NO</td>\n",
       "      <td>0</td>\n",
       "      <td>0</td>\n",
       "      <td>NO</td>\n",
       "      <td>NO</td>\n",
       "      <td>NO</td>\n",
       "      <td>195</td>\n",
       "      <td>106.0</td>\n",
       "      <td>70.0</td>\n",
       "      <td>26.97</td>\n",
       "      <td>80</td>\n",
       "      <td>77</td>\n",
       "      <td>NO</td>\n",
       "    </tr>\n",
       "    <tr>\n",
       "      <th>1</th>\n",
       "      <td>FEMALE</td>\n",
       "      <td>46</td>\n",
       "      <td>2</td>\n",
       "      <td>NO</td>\n",
       "      <td>0</td>\n",
       "      <td>0</td>\n",
       "      <td>NO</td>\n",
       "      <td>NO</td>\n",
       "      <td>NO</td>\n",
       "      <td>250</td>\n",
       "      <td>121.0</td>\n",
       "      <td>81.0</td>\n",
       "      <td>28.73</td>\n",
       "      <td>95</td>\n",
       "      <td>76</td>\n",
       "      <td>NO</td>\n",
       "    </tr>\n",
       "    <tr>\n",
       "      <th>2</th>\n",
       "      <td>MALE</td>\n",
       "      <td>48</td>\n",
       "      <td>1</td>\n",
       "      <td>YES</td>\n",
       "      <td>20</td>\n",
       "      <td>0</td>\n",
       "      <td>NO</td>\n",
       "      <td>NO</td>\n",
       "      <td>NO</td>\n",
       "      <td>245</td>\n",
       "      <td>127.5</td>\n",
       "      <td>80.0</td>\n",
       "      <td>25.34</td>\n",
       "      <td>75</td>\n",
       "      <td>70</td>\n",
       "      <td>NO</td>\n",
       "    </tr>\n",
       "    <tr>\n",
       "      <th>3</th>\n",
       "      <td>FEMALE</td>\n",
       "      <td>61</td>\n",
       "      <td>3</td>\n",
       "      <td>YES</td>\n",
       "      <td>30</td>\n",
       "      <td>0</td>\n",
       "      <td>NO</td>\n",
       "      <td>YES</td>\n",
       "      <td>NO</td>\n",
       "      <td>225</td>\n",
       "      <td>150.0</td>\n",
       "      <td>95.0</td>\n",
       "      <td>28.58</td>\n",
       "      <td>65</td>\n",
       "      <td>103</td>\n",
       "      <td>YES</td>\n",
       "    </tr>\n",
       "    <tr>\n",
       "      <th>4</th>\n",
       "      <td>FEMALE</td>\n",
       "      <td>46</td>\n",
       "      <td>3</td>\n",
       "      <td>YES</td>\n",
       "      <td>23</td>\n",
       "      <td>0</td>\n",
       "      <td>NO</td>\n",
       "      <td>NO</td>\n",
       "      <td>NO</td>\n",
       "      <td>285</td>\n",
       "      <td>130.0</td>\n",
       "      <td>84.0</td>\n",
       "      <td>23.10</td>\n",
       "      <td>85</td>\n",
       "      <td>85</td>\n",
       "      <td>NO</td>\n",
       "    </tr>\n",
       "  </tbody>\n",
       "</table>\n",
       "</div>"
      ],
      "text/plain": [
       "   gender  age  education currentSmoker  cigsPerDay  BPMeds prevalentStroke  \\\n",
       "0    MALE   39          4            NO           0       0              NO   \n",
       "1  FEMALE   46          2            NO           0       0              NO   \n",
       "2    MALE   48          1           YES          20       0              NO   \n",
       "3  FEMALE   61          3           YES          30       0              NO   \n",
       "4  FEMALE   46          3           YES          23       0              NO   \n",
       "\n",
       "  prevalentHyp diabetes  totChol  sysBP  diaBP    BMI  heartRate  glucose  \\\n",
       "0           NO       NO      195  106.0   70.0  26.97         80       77   \n",
       "1           NO       NO      250  121.0   81.0  28.73         95       76   \n",
       "2           NO       NO      245  127.5   80.0  25.34         75       70   \n",
       "3          YES       NO      225  150.0   95.0  28.58         65      103   \n",
       "4           NO       NO      285  130.0   84.0  23.10         85       85   \n",
       "\n",
       "  TenYearCHD  \n",
       "0         NO  \n",
       "1         NO  \n",
       "2         NO  \n",
       "3        YES  \n",
       "4         NO  "
      ]
     },
     "execution_count": 18,
     "metadata": {},
     "output_type": "execute_result"
    }
   ],
   "source": [
    "df.head()"
   ]
  },
  {
   "cell_type": "code",
   "execution_count": 19,
   "id": "e92882c4",
   "metadata": {},
   "outputs": [
    {
     "data": {
      "text/plain": [
       "gender             0\n",
       "age                0\n",
       "education          0\n",
       "currentSmoker      0\n",
       "cigsPerDay         0\n",
       "BPMeds             0\n",
       "prevalentStroke    0\n",
       "prevalentHyp       0\n",
       "diabetes           0\n",
       "totChol            0\n",
       "sysBP              0\n",
       "diaBP              0\n",
       "BMI                0\n",
       "heartRate          0\n",
       "glucose            0\n",
       "TenYearCHD         0\n",
       "dtype: int64"
      ]
     },
     "execution_count": 19,
     "metadata": {},
     "output_type": "execute_result"
    }
   ],
   "source": [
    "df.isnull().sum()"
   ]
  },
  {
   "cell_type": "code",
   "execution_count": 20,
   "id": "3ca1eef3",
   "metadata": {},
   "outputs": [
    {
     "data": {
      "text/plain": [
       "(array([0, 1, 2, 3, 4, 5, 6, 7, 8, 9]),\n",
       " [Text(0, 0, 'age'),\n",
       "  Text(1, 0, 'education'),\n",
       "  Text(2, 0, 'cigsPerDay'),\n",
       "  Text(3, 0, 'BPMeds'),\n",
       "  Text(4, 0, 'totChol'),\n",
       "  Text(5, 0, 'sysBP'),\n",
       "  Text(6, 0, 'diaBP'),\n",
       "  Text(7, 0, 'BMI'),\n",
       "  Text(8, 0, 'heartRate'),\n",
       "  Text(9, 0, 'glucose')])"
      ]
     },
     "execution_count": 20,
     "metadata": {},
     "output_type": "execute_result"
    },
    {
     "data": {
      "image/png": "[encoded data removed]",
      "text/plain": [
       "<Figure size 640x480 with 1 Axes>"
      ]
     },
     "metadata": {},
     "output_type": "display_data"
    }
   ],
   "source": [
    "sns.boxplot(data=df)\n",
    "plt.xticks(rotation=90)"
   ]
  },
  {
   "cell_type": "code",
   "execution_count": 21,
   "id": "fb815ad6",
   "metadata": {},
   "outputs": [
    {
     "ename": "NameError",
     "evalue": "name 'dt' is not defined",
     "output_type": "error",
     "traceback": [
      "\u001b[1;31m---------------------------------------------------------------------------\u001b[0m",
      "\u001b[1;31mNameError\u001b[0m                                 Traceback (most recent call last)",
      "Cell \u001b[1;32mIn[21], line 3\u001b[0m\n\u001b[0;32m      1\u001b[0m \u001b[38;5;28;01mfor\u001b[39;00m i \u001b[38;5;129;01min\u001b[39;00m df:\n\u001b[0;32m      2\u001b[0m     \u001b[38;5;28;01mif\u001b[39;00m df[i]\u001b[38;5;241m.\u001b[39mdtypes \u001b[38;5;129;01min\u001b[39;00m (\u001b[38;5;124m\"\u001b[39m\u001b[38;5;124mfloat64\u001b[39m\u001b[38;5;124m\"\u001b[39m,\u001b[38;5;124m\"\u001b[39m\u001b[38;5;124mint64\u001b[39m\u001b[38;5;124m\"\u001b[39m):\n\u001b[1;32m----> 3\u001b[0m         q1 \u001b[38;5;241m=\u001b[39m dt[i]\u001b[38;5;241m.\u001b[39mquantile(\u001b[38;5;241m0.25\u001b[39m)\n\u001b[0;32m      4\u001b[0m         q3 \u001b[38;5;241m=\u001b[39m dt[i]\u001b[38;5;241m.\u001b[39mquantile(\u001b[38;5;241m0.75\u001b[39m)\n\u001b[0;32m      5\u001b[0m         iqr \u001b[38;5;241m=\u001b[39m q3\u001b[38;5;241m-\u001b[39mq1\n",
      "\u001b[1;31mNameError\u001b[0m: name 'dt' is not defined"
     ]
    }
   ],
   "source": [
    "for i in df:\n",
    "    if df[i].dtypes in (\"float64\",\"int64\"):\n",
    "        q1 = dt[i].quantile(0.25)\n",
    "        q3 = dt[i].quantile(0.75)\n",
    "        iqr = q3-q1\n",
    "        ul = q3 + 1.5*iqr\n",
    "        ll = q1 - 1.5*iqr\n",
    "        df[i].clip(lower=ll,upper=ul,inplace=True)"
   ]
  },
  {
   "cell_type": "code",
   "execution_count": null,
   "id": "c3ad1f6d",
   "metadata": {},
   "outputs": [],
   "source": [
    "sns.boxplot(data=df)\n",
    "plt.xticks(rotation=90)"
   ]
  },
  {
   "cell_type": "code",
   "execution_count": null,
   "id": "ff674793",
   "metadata": {},
   "outputs": [],
   "source": [
    "df.Heart_Disease.value_counts(normalize=True)"
   ]
  },
  {
   "cell_type": "code",
   "execution_count": null,
   "id": "47f5f06d",
   "metadata": {},
   "outputs": [],
   "source": [
    "import plotly.express as px\n",
    "\n",
    "fig = px.pie(df,names='Heart_Disease', color = 'Heart_Disease',\n",
    "             color_discrete_map = {'Yes':'Yellow',\n",
    "                                   'No':'Red'})\n",
    "fig.show()"
   ]
  },
  {
   "cell_type": "markdown",
   "id": "c5ad0518",
   "metadata": {},
   "source": [
    "# 4. Breaking Data into Two Part\n",
    "1)Quantitative Variable\n",
    "2)Qualitative Variable"
   ]
  },
  {
   "cell_type": "code",
   "execution_count": null,
   "id": "05af4921",
   "metadata": {},
   "outputs": [],
   "source": [
    "dt.head()"
   ]
  },
  {
   "cell_type": "code",
   "execution_count": null,
   "id": "f537e914",
   "metadata": {},
   "outputs": [],
   "source": [
    "df.info()"
   ]
  },
  {
   "cell_type": "code",
   "execution_count": null,
   "id": "2600d855",
   "metadata": {},
   "outputs": [],
   "source": [
    "Quantitative_variables = df.select_dtypes(include=[np.number])\n",
    "Quantitative_variables.head(5)"
   ]
  },
  {
   "cell_type": "code",
   "execution_count": null,
   "id": "acec04ba",
   "metadata": {},
   "outputs": [],
   "source": [
    "Qualitative_varibles = df.select_dtypes(include=['object'])\n",
    "Qualitative_varibles.head(5)"
   ]
  },
  {
   "cell_type": "markdown",
   "id": "3e604e71",
   "metadata": {},
   "source": [
    "# Converting qualitative Variable into number"
   ]
  },
  {
   "cell_type": "code",
   "execution_count": null,
   "id": "bf8add5d",
   "metadata": {},
   "outputs": [],
   "source": [
    "from sklearn.preprocessing import LabelEncoder\n",
    "\n",
    "Qualitative_varibles = Qualitative_varibles.apply(LabelEncoder().fit_transform)\n",
    "Qualitative_varibles.head(5)\n"
   ]
  },
  {
   "cell_type": "markdown",
   "id": "f6f98b96",
   "metadata": {},
   "source": [
    "# Combining the data set"
   ]
  },
  {
   "cell_type": "code",
   "execution_count": null,
   "id": "4a8fa0e5",
   "metadata": {},
   "outputs": [],
   "source": [
    "data = pd.concat([Quantitative_variables,Qualitative_varibles],axis=1)\n",
    "data.head()"
   ]
  },
  {
   "cell_type": "markdown",
   "id": "d9e53da9",
   "metadata": {},
   "source": [
    "# 5. Data Partition"
   ]
  },
  {
   "cell_type": "code",
   "execution_count": null,
   "id": "fa9fd5d6",
   "metadata": {},
   "outputs": [],
   "source": [
    "x = data.drop('Heart_Disease',axis=1)\n",
    "y = data[['Heart_Disease']]\n",
    "\n",
    "x_train, x_test, y_train, y_test = train_test_split(x, y, test_size=0.20, random_state=50)"
   ]
  },
  {
   "cell_type": "code",
   "execution_count": null,
   "id": "6e50d405",
   "metadata": {},
   "outputs": [],
   "source": [
    "y"
   ]
  },
  {
   "cell_type": "code",
   "execution_count": null,
   "id": "fcd48a20",
   "metadata": {},
   "outputs": [],
   "source": [
    "train = pd.concat([x_train,y_train],axis=1)\n",
    "train.head()"
   ]
  },
  {
   "cell_type": "code",
   "execution_count": null,
   "id": "cb10fe86",
   "metadata": {},
   "outputs": [],
   "source": [
    "x_train.shape"
   ]
  },
  {
   "cell_type": "code",
   "execution_count": null,
   "id": "12646c37",
   "metadata": {},
   "outputs": [],
   "source": [
    "y_train.shape"
   ]
  },
  {
   "cell_type": "markdown",
   "id": "6a1b5b37",
   "metadata": {},
   "source": [
    "# Model Building"
   ]
  },
  {
   "cell_type": "code",
   "execution_count": null,
   "id": "027847ca",
   "metadata": {},
   "outputs": [],
   "source": [
    "from sklearn.feature_selection import SequentialFeatureSelector as sfs\n",
    "log = LogisticRegression(random_state=135)\n",
    "Model = sfs(log,n_features_to_select=5, direction='forward', scoring='accuracy')\n",
    "Model.fit(x_train,y_train)"
   ]
  },
  {
   "cell_type": "code",
   "execution_count": null,
   "id": "0e736ffe",
   "metadata": {},
   "outputs": [],
   "source": [
    "Model.feature_names_in_"
   ]
  },
  {
   "cell_type": "code",
   "execution_count": null,
   "id": "f40d5669",
   "metadata": {},
   "outputs": [],
   "source": [
    "Model.get_feature_names_out()"
   ]
  },
  {
   "cell_type": "code",
   "execution_count": null,
   "id": "a2e85ad8",
   "metadata": {},
   "outputs": [],
   "source": [
    "x_train = x_train.loc[:,['index', 'Sex', 'Chest pain type', 'Number of vessels fluro','Thallium']]\n",
    "x_train.head()"
   ]
  },
  {
   "cell_type": "code",
   "execution_count": null,
   "id": "84c36ffe",
   "metadata": {},
   "outputs": [],
   "source": [
    "log_reg = LogisticRegression() \n",
    "Model1 = log_reg.fit(x_train,y_train)"
   ]
  },
  {
   "cell_type": "code",
   "execution_count": null,
   "id": "82b2a280",
   "metadata": {},
   "outputs": [],
   "source": [
    "Model1.intercept_"
   ]
  },
  {
   "cell_type": "code",
   "execution_count": null,
   "id": "2e45c928",
   "metadata": {},
   "outputs": [],
   "source": [
    "Model1.coef_"
   ]
  },
  {
   "cell_type": "code",
   "execution_count": null,
   "id": "56e0258d",
   "metadata": {},
   "outputs": [],
   "source": [
    "Model1.feature_names_in_"
   ]
  },
  {
   "cell_type": "markdown",
   "id": "cbf8e5f9",
   "metadata": {},
   "source": [
    "# Step 6 : Predictions on Train Dataset"
   ]
  },
  {
   "cell_type": "code",
   "execution_count": null,
   "id": "ea7c0b10",
   "metadata": {},
   "outputs": [],
   "source": [
    "train = pd.concat([x_train,y_train],axis=1)\n",
    "train.head()"
   ]
  },
  {
   "cell_type": "code",
   "execution_count": null,
   "id": "9b1d0461",
   "metadata": {},
   "outputs": [],
   "source": [
    "train['Probability_NO'] = Model1.predict_proba(x_train)[:,1]\n",
    "train.head()"
   ]
  },
  {
   "cell_type": "code",
   "execution_count": null,
   "id": "5cd2a311",
   "metadata": {},
   "outputs": [],
   "source": [
    "train['Predicted'] = np.where(train['Probability_NO']>=0.7,1,0)\n",
    "train.head()"
   ]
  },
  {
   "cell_type": "markdown",
   "id": "0167fdef",
   "metadata": {},
   "source": [
    "# Step 7 : Model Performance Metrics"
   ]
  },
  {
   "cell_type": "code",
   "execution_count": null,
   "id": "2b7289ac",
   "metadata": {},
   "outputs": [],
   "source": [
    "from sklearn.metrics import confusion_matrix\n",
    "\n",
    "metrix = confusion_matrix(train['Predicted'], train['Heart_Disease'])\n",
    "metrix"
   ]
  },
  {
   "cell_type": "code",
   "execution_count": null,
   "id": "cb0a30b1",
   "metadata": {},
   "outputs": [],
   "source": [
    "Accuracy_Train=((104+67)/(216)*100)\n",
    "print(Accuracy_Train)"
   ]
  },
  {
   "cell_type": "markdown",
   "id": "2709c766",
   "metadata": {},
   "source": [
    "# Accuracy of Model is 79.166% , So we say Model good fit data"
   ]
  },
  {
   "cell_type": "code",
   "execution_count": null,
   "id": "af742f27",
   "metadata": {},
   "outputs": [],
   "source": [
    "from sklearn.metrics import classification_report\n",
    "\n",
    "print(classification_report(train['Heart_Disease'],train['Predicted']))"
   ]
  },
  {
   "cell_type": "markdown",
   "id": "81edc038",
   "metadata": {},
   "source": [
    "1)Accuracy of Model is 79%,Hence Model is good Fit on Train dataset,\n",
    "2)Accuracy of  (Have not Heart_Disease) Capture by Model is 67% ( Sensitivity),\n",
    "3)Accuracy of (Haaving Heart_Disease) Capture by Model is 90% (Specificity)"
   ]
  },
  {
   "cell_type": "markdown",
   "id": "8a28df80",
   "metadata": {},
   "source": [
    "# Step 8 : Predictions on Test Dataset"
   ]
  },
  {
   "cell_type": "code",
   "execution_count": null,
   "id": "ddbbcd3f",
   "metadata": {},
   "outputs": [],
   "source": [
    "x_test = x_test.loc[:,['index', 'Sex', 'Chest pain type', 'Number of vessels fluro','Thallium']]\n",
    "x_test.head()"
   ]
  },
  {
   "cell_type": "code",
   "execution_count": null,
   "id": "942afe42",
   "metadata": {},
   "outputs": [],
   "source": [
    "test = pd.concat([x_test,y_test],axis=1)\n",
    "test.head()"
   ]
  },
  {
   "cell_type": "code",
   "execution_count": null,
   "id": "b4ef0caa",
   "metadata": {},
   "outputs": [],
   "source": [
    "test['Probability_No'] = Model1.predict_proba(x_test)[:,1]\n",
    "test.head()"
   ]
  },
  {
   "cell_type": "code",
   "execution_count": null,
   "id": "6da957f1",
   "metadata": {},
   "outputs": [],
   "source": [
    "test['Predicted'] = np.where(test['Probability_No']>=0.7,1,0)\n",
    "test.head()"
   ]
  },
  {
   "cell_type": "markdown",
   "id": "5784373d",
   "metadata": {},
   "source": [
    "# Step 9 : Model Performance Metrics on Test data"
   ]
  },
  {
   "cell_type": "code",
   "execution_count": null,
   "id": "6833586b",
   "metadata": {},
   "outputs": [],
   "source": [
    "from sklearn.metrics import confusion_matrix\n",
    "matrix = confusion_matrix(test['Predicted'],test['Heart_Disease'])\n",
    "print(matrix)"
   ]
  },
  {
   "cell_type": "code",
   "execution_count": null,
   "id": "b78d35f9",
   "metadata": {},
   "outputs": [],
   "source": [
    "Accuracy_test = ((32+14)/(54)*100)\n",
    "Accuracy_test"
   ]
  },
  {
   "cell_type": "code",
   "execution_count": null,
   "id": "54f787f9",
   "metadata": {},
   "outputs": [],
   "source": [
    "from sklearn.metrics import classification_report\n",
    "print(classification_report(test['Heart_Disease'],test['Predicted']))"
   ]
  },
  {
   "cell_type": "markdown",
   "id": "08a1dc31",
   "metadata": {},
   "source": [
    "1)Accuracy of Model is 85%,Hence Model Performance is good Fit on test Data,\n",
    "2)Accuracy of (Have not Heart_Disease)Capture by Model is 70% ( Sensitivity),\n",
    "3)Accuracy of(Having Heart_Disease)Capture by Model is 94%"
   ]
  }
 ],
 "metadata": {
  "kernelspec": {
   "display_name": "Python 3 (ipykernel)",
   "language": "python",
   "name": "python3"
  },
  "language_info": {
   "codemirror_mode": {
    "name": "ipython",
    "version": 3
   },
   "file_extension": ".py",
   "mimetype": "text/x-python",
   "name": "python",
   "nbconvert_exporter": "python",
   "pygments_lexer": "ipython3",
   "version": "3.11.5"
  }
 },
 "nbformat": 4,
 "nbformat_minor": 5
}
